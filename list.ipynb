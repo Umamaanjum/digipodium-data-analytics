{
 "cells": [
  {
   "cell_type": "code",
   "execution_count": 1,
   "metadata": {},
   "outputs": [],
   "source": [
    "#defining list in python\n",
    "\n",
    "#list of string\n",
    "list1 = [\"nikhlesh\" , \"aman\" , \"rahul\" ]\n",
    "\n",
    "#list of number\n",
    "list2 = [1,2,3,4,5,25,50,100]\n",
    "\n",
    "#mixed data list \n",
    "list3 = ['ravi',90 , 102 ,93 , 20 , 44 , \"b\",False,5.786]\n",
    "\n",
    "#nested list\n",
    "list4 = [[1,2,3],[3,4,5,6],[2,1]]\n"
   ]
  },
  {
   "cell_type": "code",
   "execution_count": 5,
   "metadata": {},
   "outputs": [
    {
     "name": "stdout",
     "output_type": "stream",
     "text": [
      "[40, 50, 60, 70, 80]\n"
     ]
    }
   ],
   "source": [
    "#getting a list slice\n",
    "l = [10,20,30,40,50,60,70,80,90,100]\n",
    "slice1 = l[-7:-2]\n",
    "print(slice1)"
   ]
  },
  {
   "cell_type": "code",
   "execution_count": 8,
   "metadata": {},
   "outputs": [
    {
     "name": "stdout",
     "output_type": "stream",
     "text": [
      "[10, 20, 30, 40, 50, 60]\n",
      "[]\n",
      "[60, 70, 80, 90, 100]\n"
     ]
    }
   ],
   "source": [
    "l = [10,20,30,40,50,60,70,80,90,100]\n",
    "slice1 = l[:6]\n",
    "slice2 = l[5:5]\n",
    "slice3 = l[5:len(l)]\n",
    "print(slice1)\n",
    "print(slice2)\n",
    "print(slice3)"
   ]
  },
  {
   "cell_type": "code",
   "execution_count": 10,
   "metadata": {},
   "outputs": [],
   "source": [
    "list1 = [1,2,3,4,5,'a','b']\n"
   ]
  },
  {
   "cell_type": "code",
   "execution_count": 12,
   "metadata": {},
   "outputs": [
    {
     "name": "stdout",
     "output_type": "stream",
     "text": [
      "[1, 2, 3, 4, 5, 'a', 'b', 'c', 'c']\n",
      "['f', 1, 2, 3, 4, 5, 'a', 'b', 'c', 'c']\n"
     ]
    }
   ],
   "source": [
    "#append\n",
    "list1.append('c')\n",
    "print(list1)\n",
    "list1.insert(0,'f')\n",
    "print(list1)"
   ]
  },
  {
   "cell_type": "code",
   "execution_count": null,
   "metadata": {},
   "outputs": [],
   "source": []
  }
 ],
 "metadata": {
  "kernelspec": {
   "display_name": "base",
   "language": "python",
   "name": "python3"
  },
  "language_info": {
   "codemirror_mode": {
    "name": "ipython",
    "version": 3
   },
   "file_extension": ".py",
   "mimetype": "text/x-python",
   "name": "python",
   "nbconvert_exporter": "python",
   "pygments_lexer": "ipython3",
   "version": "3.10.10"
  },
  "orig_nbformat": 4
 },
 "nbformat": 4,
 "nbformat_minor": 2
}
