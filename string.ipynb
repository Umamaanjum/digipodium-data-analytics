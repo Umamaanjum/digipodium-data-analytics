{
 "cells": [
  {
   "cell_type": "code",
   "execution_count": 1,
   "metadata": {},
   "outputs": [],
   "source": [
    "msg = 'life before death, strength before weakness, journey before destination.'"
   ]
  },
  {
   "cell_type": "code",
   "execution_count": 5,
   "metadata": {},
   "outputs": [
    {
     "name": "stdout",
     "output_type": "stream",
     "text": [
      "life before death\n"
     ]
    }
   ],
   "source": [
    "print( msg [:17])\n",
    "#slicing"
   ]
  },
  {
   "cell_type": "code",
   "execution_count": 7,
   "metadata": {},
   "outputs": [
    {
     "name": "stdout",
     "output_type": "stream",
     "text": [
      "72\n"
     ]
    }
   ],
   "source": [
    "#length\n",
    "print(len(msg))"
   ]
  },
  {
   "cell_type": "code",
   "execution_count": 9,
   "metadata": {},
   "outputs": [
    {
     "data": {
      "text/plain": [
       "['life',\n",
       " 'before',\n",
       " 'death,',\n",
       " 'strength',\n",
       " 'before',\n",
       " 'weakness,',\n",
       " 'journey',\n",
       " 'before',\n",
       " 'destination.']"
      ]
     },
     "execution_count": 9,
     "metadata": {},
     "output_type": "execute_result"
    }
   ],
   "source": [
    "msg.split()"
   ]
  },
  {
   "cell_type": "code",
   "execution_count": 11,
   "metadata": {},
   "outputs": [
    {
     "data": {
      "text/plain": [
       "['life before death',\n",
       " ' strength before weakness',\n",
       " ' journey before destination.']"
      ]
     },
     "execution_count": 11,
     "metadata": {},
     "output_type": "execute_result"
    }
   ],
   "source": [
    "msg.split(',')"
   ]
  },
  {
   "cell_type": "code",
   "execution_count": 17,
   "metadata": {},
   "outputs": [
    {
     "name": "stdout",
     "output_type": "stream",
     "text": [
      "rain rain go away ,\n",
      "come again another day,\n",
      "little jonny wants to play,\n",
      "rain rain go away\n",
      "-x--x--x--x--x--x--x--x--x--x-\n",
      "89 num of characters\n",
      "18 mun of words\n",
      "4 num of lines\n"
     ]
    }
   ],
   "source": [
    "poem =  \"\"\"rain rain go away ,\n",
    "come again another day,\n",
    "little jonny wants to play,\n",
    "rain rain go away\"\"\"\n",
    "print(poem)\n",
    "print('-x-'*10)\n",
    "print(len(poem),'num of characters')\n",
    "print(len(poem.split()),'mun of words')\n",
    "print(len(poem.splitlines()),'num of lines')"
   ]
  },
  {
   "cell_type": "code",
   "execution_count": 24,
   "metadata": {},
   "outputs": [
    {
     "data": {
      "text/plain": [
       "2"
      ]
     },
     "execution_count": 24,
     "metadata": {},
     "output_type": "execute_result"
    }
   ],
   "source": [
    "poem.count('go')"
   ]
  },
  {
   "cell_type": "code",
   "execution_count": 26,
   "metadata": {},
   "outputs": [
    {
     "name": "stdout",
     "output_type": "stream",
     "text": [
      "LIFE BEFORE DEATH, STRENGTH BEFORE WEAKNESS, JOURNEY BEFORE DESTINATION.\n",
      "life before death, strength before weakness, journey before destination.\n",
      "Life Before Death, Strength Before Weakness, Journey Before Destination.\n",
      "Life before death, strength before weakness, journey before destination.\n",
      "LIFE BEFORE DEATH, STRENGTH BEFORE WEAKNESS, JOURNEY BEFORE DESTINATION.\n"
     ]
    }
   ],
   "source": [
    "print(msg.upper())\n",
    "print(msg.lower())\n",
    "print(msg.title())\n",
    "print(msg.capitalize())\n",
    "print(msg.swapcase())\n",
    "\n"
   ]
  },
  {
   "cell_type": "code",
   "execution_count": 27,
   "metadata": {},
   "outputs": [
    {
     "name": "stdout",
     "output_type": "stream",
     "text": [
      "apple False\n",
      "apple True\n",
      "apple True\n"
     ]
    }
   ],
   "source": [
    "a = 'apple'\n",
    "b = '290'\n",
    "c = 'apple100'\n",
    "print(a, a.isnumeric())#check if all character are numeric\n",
    "print(a, a.isalpha())#check if all character are alphabet\n",
    "print(a, a.isalnum())#check if all character are alphanumeric\n"
   ]
  },
  {
   "cell_type": "code",
   "execution_count": 28,
   "metadata": {},
   "outputs": [
    {
     "name": "stdout",
     "output_type": "stream",
     "text": [
      "pain pain go away ,\n",
      "come again another day,\n",
      "little jonny wants to play,\n",
      "pain pain go away\n"
     ]
    }
   ],
   "source": [
    "print(poem.replace('rain','pain'))"
   ]
  },
  {
   "cell_type": "code",
   "execution_count": 33,
   "metadata": {},
   "outputs": [
    {
     "name": "stdout",
     "output_type": "stream",
     "text": [
      "rasun rasun go away ,\n",
      "come agasun another day,\n",
      "little jonny wants to play,\n",
      "rasun rain go away\n"
     ]
    }
   ],
   "source": [
    "print(poem.replace('in','sun',4))# 4 is for max replacements"
   ]
  },
  {
   "cell_type": "code",
   "execution_count": null,
   "metadata": {},
   "outputs": [],
   "source": []
  }
 ],
 "metadata": {
  "kernelspec": {
   "display_name": "base",
   "language": "python",
   "name": "python3"
  },
  "language_info": {
   "codemirror_mode": {
    "name": "ipython",
    "version": 3
   },
   "file_extension": ".py",
   "mimetype": "text/x-python",
   "name": "python",
   "nbconvert_exporter": "python",
   "pygments_lexer": "ipython3",
   "version": "3.10.10"
  },
  "orig_nbformat": 4
 },
 "nbformat": 4,
 "nbformat_minor": 2
}
