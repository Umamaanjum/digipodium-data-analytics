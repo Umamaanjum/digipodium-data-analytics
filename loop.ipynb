{
 "cells": [
  {
   "cell_type": "code",
   "execution_count": 1,
   "metadata": {},
   "outputs": [],
   "source": [
    "x = [\n",
    "    ['warbreaker' , 4999],\n",
    "    ['the way of king' , 5999],\n",
    "    ['words of radiance' , 5999],\n",
    "    ['oathbringer' , 5999],\n",
    "    ['rhythm of war' , 5999],\n",
    "]"
   ]
  },
  {
   "cell_type": "code",
   "execution_count": 2,
   "metadata": {},
   "outputs": [
    {
     "name": "stdout",
     "output_type": "stream",
     "text": [
      "warbreaker\n",
      "4999\n",
      "---\n",
      "the way of king\n",
      "5999\n",
      "---\n",
      "words of radiance\n",
      "5999\n",
      "---\n",
      "oathbringer\n",
      "5999\n",
      "---\n",
      "rhythm of war\n",
      "5999\n",
      "---\n"
     ]
    }
   ],
   "source": [
    "for item in x:\n",
    "    for data in item:\n",
    "        print(data)\n",
    "    print('---')"
   ]
  },
  {
   "cell_type": "code",
   "execution_count": null,
   "metadata": {},
   "outputs": [],
   "source": []
  }
 ],
 "metadata": {
  "kernelspec": {
   "display_name": "base",
   "language": "python",
   "name": "python3"
  },
  "language_info": {
   "codemirror_mode": {
    "name": "ipython",
    "version": 3
   },
   "file_extension": ".py",
   "mimetype": "text/x-python",
   "name": "python",
   "nbconvert_exporter": "python",
   "pygments_lexer": "ipython3",
   "version": "3.10.10"
  },
  "orig_nbformat": 4
 },
 "nbformat": 4,
 "nbformat_minor": 2
}
