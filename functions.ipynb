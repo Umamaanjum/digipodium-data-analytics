{
 "cells": [
  {
   "cell_type": "code",
   "execution_count": 30,
   "metadata": {},
   "outputs": [],
   "source": [
    "def pythagoras(base, perpendicular):\n",
    "    return(base**2 + perpendicular**2)**0.5"
   ]
  },
  {
   "cell_type": "code",
   "execution_count": 31,
   "metadata": {},
   "outputs": [
    {
     "data": {
      "text/plain": [
       "13.0"
      ]
     },
     "execution_count": 31,
     "metadata": {},
     "output_type": "execute_result"
    }
   ],
   "source": [
    "pythagoras(12, 5)"
   ]
  },
  {
   "cell_type": "code",
   "execution_count": 32,
   "metadata": {},
   "outputs": [
    {
     "data": {
      "text/plain": [
       "12.806248474865697"
      ]
     },
     "execution_count": 32,
     "metadata": {},
     "output_type": "execute_result"
    }
   ],
   "source": [
    "pythagoras(10 , 8)"
   ]
  },
  {
   "cell_type": "code",
   "execution_count": 33,
   "metadata": {},
   "outputs": [
    {
     "data": {
      "text/plain": [
       "5.0"
      ]
     },
     "execution_count": 33,
     "metadata": {},
     "output_type": "execute_result"
    }
   ],
   "source": [
    "pythagoras(perpendicular=3,base=4)"
   ]
  },
  {
   "cell_type": "code",
   "execution_count": 34,
   "metadata": {},
   "outputs": [
    {
     "name": "stdout",
     "output_type": "stream",
     "text": [
      "9\n",
      "16\n",
      "121\n",
      "256\n"
     ]
    }
   ],
   "source": [
    "#lambda expression for making anonymous function (1 line function)\n",
    "f = lambda x: x**2 + 2*x + 1\n",
    "print(f(2))\n",
    "print(f(3))\n",
    "print(f(10))\n",
    "print(f(15))"
   ]
  },
  {
   "cell_type": "code",
   "execution_count": 35,
   "metadata": {},
   "outputs": [
    {
     "name": "stdout",
     "output_type": "stream",
     "text": [
      "25\n",
      "49\n"
     ]
    }
   ],
   "source": [
    "g = lambda x , y: x**2  + 2*x*y + y**2\n",
    "print(g(2, 3))\n",
    "print(g(3 ,4))"
   ]
  },
  {
   "cell_type": "code",
   "execution_count": 36,
   "metadata": {},
   "outputs": [],
   "source": [
    "h = lambda p, b:(p**2 + b**2)**0.5\n"
   ]
  },
  {
   "cell_type": "code",
   "execution_count": 37,
   "metadata": {},
   "outputs": [
    {
     "name": "stdout",
     "output_type": "stream",
     "text": [
      "5.0\n"
     ]
    }
   ],
   "source": [
    "print(h(3,4))"
   ]
  },
  {
   "cell_type": "code",
   "execution_count": 38,
   "metadata": {},
   "outputs": [
    {
     "data": {
      "text/plain": [
       "10080.0"
      ]
     },
     "execution_count": 38,
     "metadata": {},
     "output_type": "execute_result"
    }
   ],
   "source": [
    "12000 * (1 - .16)"
   ]
  },
  {
   "cell_type": "code",
   "execution_count": 39,
   "metadata": {},
   "outputs": [
    {
     "name": "stdout",
     "output_type": "stream",
     "text": [
      "[8400.0, 25200.0, 10919.16, 42000.0, 36959.159999999996, 8820.0]\n"
     ]
    }
   ],
   "source": [
    "prices = [10000,30000,12999,50000,43999,10500]\n",
    "ans=[]\n",
    "for i in range(len(prices)):\n",
    "    dis=prices[i]*(1-.16)\n",
    "    ans.append(dis)\n",
    "print(ans)\n",
    "    "
   ]
  },
  {
   "cell_type": "code",
   "execution_count": 42,
   "metadata": {},
   "outputs": [
    {
     "name": "stdout",
     "output_type": "stream",
     "text": [
      "[10000, 30000, 12999, 50000, 43999, 10500]\n",
      "[8400.0, 25200.0, 10919.16, 42000.0, 36959.159999999996, 8820.0]\n"
     ]
    }
   ],
   "source": [
    "prices = [10000,30000,12999,50000,43999,10500]\n",
    "dis_price=[]\n",
    "for price in prices:\n",
    "    ans=price*(1 - .16)\n",
    "    dis_price.append(ans)\n",
    "print(prices)\n",
    "print(dis_price)\n"
   ]
  },
  {
   "cell_type": "code",
   "execution_count": 46,
   "metadata": {},
   "outputs": [
    {
     "name": "stdout",
     "output_type": "stream",
     "text": [
      "[8400.0, 25200.0, 10919.16, 42000.0, 36959.159999999996, 8820.0]\n"
     ]
    }
   ],
   "source": [
    "dis_price = list(map(lambda p: p*(1 - .16), prices))\n",
    "print(dis_price)"
   ]
  },
  {
   "cell_type": "code",
   "execution_count": 1,
   "metadata": {},
   "outputs": [
    {
     "name": "stdout",
     "output_type": "stream",
     "text": [
      "[1, 4, 9, 16, 36, 49, 25, 64, 441]\n"
     ]
    }
   ],
   "source": [
    "x = [1,2,3,4,6,7,5,8,21]\n",
    "squ_x  = list(map(lambda x:x**2 ,x))\n",
    "\n",
    "print(squ_x)"
   ]
  },
  {
   "cell_type": "code",
   "execution_count": 4,
   "metadata": {},
   "outputs": [
    {
     "name": "stdout",
     "output_type": "stream",
     "text": [
      "6.0\n"
     ]
    }
   ],
   "source": [
    "x=[3,4,5]\n",
    "area = lambda b , h : 1/2*b*h\n",
    "print(area(3,4))"
   ]
  },
  {
   "cell_type": "code",
   "execution_count": 5,
   "metadata": {},
   "outputs": [
    {
     "name": "stdout",
     "output_type": "stream",
     "text": [
      "4\n"
     ]
    }
   ],
   "source": [
    "#area of square\n",
    "x=[2]\n",
    "area = lambda x : x**2\n",
    "print(area(2))"
   ]
  },
  {
   "cell_type": "code",
   "execution_count": 14,
   "metadata": {},
   "outputs": [
    {
     "name": "stdout",
     "output_type": "stream",
     "text": [
      "31\n"
     ]
    }
   ],
   "source": [
    "\n",
    "def add(arr):\n",
    "    total=0\n",
    "    for i in arr:\n",
    "        total+=i\n",
    "\n",
    "    return total\n",
    "print (add([1,3,5,4,3,3,3,9]))\n"
   ]
  },
  {
   "cell_type": "code",
   "execution_count": null,
   "metadata": {},
   "outputs": [],
   "source": []
  }
 ],
 "metadata": {
  "kernelspec": {
   "display_name": "base",
   "language": "python",
   "name": "python3"
  },
  "language_info": {
   "codemirror_mode": {
    "name": "ipython",
    "version": 3
   },
   "file_extension": ".py",
   "mimetype": "text/x-python",
   "name": "python",
   "nbconvert_exporter": "python",
   "pygments_lexer": "ipython3",
   "version": "3.10.10"
  },
  "orig_nbformat": 4
 },
 "nbformat": 4,
 "nbformat_minor": 2
}
