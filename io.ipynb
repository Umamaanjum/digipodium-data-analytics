{
 "cells": [
  {
   "cell_type": "code",
   "execution_count": 1,
   "metadata": {},
   "outputs": [
    {
     "name": "stdout",
     "output_type": "stream",
     "text": [
      "Umama Anjum\n"
     ]
    }
   ],
   "source": [
    "name=\"Umama Anjum\"\n",
    "print(name)"
   ]
  },
  {
   "cell_type": "code",
   "execution_count": 2,
   "metadata": {},
   "outputs": [],
   "source": [
    "city = input('enter your city')"
   ]
  },
  {
   "cell_type": "code",
   "execution_count": 4,
   "metadata": {},
   "outputs": [
    {
     "name": "stdout",
     "output_type": "stream",
     "text": [
      "manhatan BCA 9\n"
     ]
    }
   ],
   "source": [
    "college = input('enter your college name')\n",
    "klass = input ('enter your klass name')\n",
    "iq = input ('enter your iq')\n",
    "print (college, klass,iq)"
   ]
  },
  {
   "cell_type": "code",
   "execution_count": 8,
   "metadata": {},
   "outputs": [
    {
     "name": "stdout",
     "output_type": "stream",
     "text": [
      "Umama Anjum | BCA | 9 | manhatan\n"
     ]
    }
   ],
   "source": [
    "print(name,klass,iq,college ,sep = ' | ')"
   ]
  },
  {
   "cell_type": "code",
   "execution_count": 10,
   "metadata": {},
   "outputs": [
    {
     "data": {
      "text/plain": [
       "'hello new york'"
      ]
     },
     "execution_count": 10,
     "metadata": {},
     "output_type": "execute_result"
    }
   ],
   "source": [
    "f'hello {city}'"
   ]
  },
  {
   "cell_type": "code",
   "execution_count": 13,
   "metadata": {},
   "outputs": [
    {
     "name": "stdout",
     "output_type": "stream",
     "text": [
      "hi,i am Umama Anjum\n",
      "i live in new york\n",
      "i study in manhatan\n",
      "i am in BCA\n",
      "my iq is 9\n"
     ]
    }
   ],
   "source": [
    "print(f'hi,i am {name}')\n",
    "print(f'i live in {city}')\n",
    "print(f'i study in {college}')\n",
    "print(f'i am in {klass}')\n",
    "print(f'my iq is {iq}')"
   ]
  },
  {
   "cell_type": "code",
   "execution_count": 15,
   "metadata": {},
   "outputs": [
    {
     "name": "stdout",
     "output_type": "stream",
     "text": [
      "hi, i am Umama Anjum and i live in new york and i study in manhatan i an in BCA\n"
     ]
    }
   ],
   "source": [
    "print(f'hi, i am {name} and i live in {city} and i study in {college} i an in {klass}')"
   ]
  },
  {
   "cell_type": "code",
   "execution_count": null,
   "metadata": {},
   "outputs": [],
   "source": []
  }
 ],
 "metadata": {
  "kernelspec": {
   "display_name": "base",
   "language": "python",
   "name": "python3"
  },
  "language_info": {
   "codemirror_mode": {
    "name": "ipython",
    "version": 3
   },
   "file_extension": ".py",
   "mimetype": "text/x-python",
   "name": "python",
   "nbconvert_exporter": "python",
   "pygments_lexer": "ipython3",
   "version": "3.10.10"
  },
  "orig_nbformat": 4
 },
 "nbformat": 4,
 "nbformat_minor": 2
}
